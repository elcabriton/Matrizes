{
 "cells": [
  {
   "cell_type": "code",
   "execution_count": 11,
   "metadata": {},
   "outputs": [],
   "source": [
    "import pandas as pd\n",
    "import numpy as np\n"
   ]
  },
  {
   "cell_type": "code",
   "execution_count": 12,
   "metadata": {},
   "outputs": [],
   "source": [
    "\n",
    "COLUNA = 0\n",
    "LINHA = 1\n",
    "\n",
    "# df = pd.read_csv('txt.txt', header=None, sep='  ', engine='python')\n",
    "\n",
    "\n",
    "def ord_matriz(df, ordenar=None,):\n",
    "    df = pd.DataFrame(np.sort(df.values, axis=ordenar))\n",
    "    return df\n",
    "\n",
    "\n",
    "def soma_linhas(df):\n",
    "    return df.sum(axis=1)\n",
    "\n",
    "\n",
    "def soma_colunas(df):\n",
    "    return df.sum(axis=0)\n",
    "\n",
    "\n",
    "def soma_total(df):\n",
    "    return df.sum().sum()\n",
    "\n",
    "\n",
    "def maiores_linhas(df):\n",
    "    return df.max(axis=1)\n",
    "\n",
    "\n",
    "def maiores_colunas(df):\n",
    "    return df.max(axis=0)\n",
    "\n",
    "\n",
    "def menores_linhas(df):\n",
    "    return df.min(axis=1)\n",
    "\n",
    "\n",
    "def menores_colunas(df):\n",
    "    return df.min(axis=0)\n",
    "\n",
    "\n",
    "def escrever_arquivo(arquivo_entrada):\n",
    "    df=pd.read_csv(arquivo_entrada, header=None, sep='  ', engine='python')\n",
    "    ordenar_linha=ord_matriz(df, LINHA)\n",
    "    ordenar_coluna=ord_matriz(df, COLUNA)\n",
    "    sum_linha=soma_linhas(df)\n",
    "    sum_coluna=soma_colunas(df)\n",
    "    sum_total=soma_total(df)\n",
    "    maior_linha=maiores_linhas(df)\n",
    "    maior_coluna=maiores_colunas(df)\n",
    "    menor_linha=menores_linhas(df)\n",
    "    menor_coluna=menores_colunas(df)\n",
    "    \n",
    "    "
   ]
  },
  {
   "cell_type": "code",
   "execution_count": 29,
   "metadata": {},
   "outputs": [],
   "source": [
    "df=pd.read_csv('txt.txt', header=None, sep='  ', engine='python')\n",
    "ordenar_linha=ord_matriz(df, LINHA)\n",
    "ordenar_coluna=ord_matriz(df, COLUNA)\n",
    "sum_linha=soma_linhas(df)\n",
    "sum_coluna=soma_colunas(df)\n",
    "sum_total=soma_total(df)\n",
    "maior_linha=maiores_linhas(df)\n",
    "maior_coluna=maiores_colunas(df)\n",
    "menor_linha=menores_linhas(df)\n",
    "menor_coluna=menores_colunas(df)"
   ]
  },
  {
   "cell_type": "code",
   "execution_count": 43,
   "metadata": {},
   "outputs": [],
   "source": [
    "# pd.set_option('display.float_format', lambda x: '%.' % x)\n",
    "\n",
    "pd.concat([ ordenar_linha, ordenar_coluna ])\n",
    "resultados=np.array([np.zeros(100) for _ in range(7)])\n",
    "\n",
    "resultados[0]=sum_linha\n",
    "resultados[1]=sum_coluna\n",
    "resultados[2,0]=sum_total\n",
    "resultados[3]=maior_linha\n",
    "resultados[4]=maior_coluna\n",
    "resultados[5]=menor_linha\n",
    "resultados[6]=menor_coluna\n",
    "pd_resultados=pd.DataFrame(data=resultados)\n",
    "resultado_final=pd.concat([ordenar_linha,ordenar_coluna,pd_resultados])\n",
    "resultado_final=resultado_final.applymap(lambda number: '{:e}'.format(number))\n",
    "resultado_final.to_csv('resultado.txt', sep=' ', index=False, header=False)\n",
    "\n"
   ]
  }
 ],
 "metadata": {
  "kernelspec": {
   "display_name": "Python 3.9.5 64-bit",
   "language": "python",
   "name": "python3"
  },
  "language_info": {
   "codemirror_mode": {
    "name": "ipython",
    "version": 3
   },
   "file_extension": ".py",
   "mimetype": "text/x-python",
   "name": "python",
   "nbconvert_exporter": "python",
   "pygments_lexer": "ipython3",
   "version": "3.9.5"
  },
  "orig_nbformat": 4,
  "vscode": {
   "interpreter": {
    "hash": "fd2d5e09d57739992a38dbdf1863387e2e1d8e05edfab3e0cbbcc96a8d36cd71"
   }
  }
 },
 "nbformat": 4,
 "nbformat_minor": 2
}
